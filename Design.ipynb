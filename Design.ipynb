{
 "cells": [
  {
   "cell_type": "markdown",
   "metadata": {},
   "source": [
    "### Design of RO unit"
   ]
  },
  {
   "cell_type": "code",
   "execution_count": 10,
   "metadata": {},
   "outputs": [],
   "source": [
    "import numpy as np\n",
    "import matplotlib.pyplot as plt\n",
    "from scipy.optimize import minimize"
   ]
  },
  {
   "cell_type": "code",
   "execution_count": null,
   "metadata": {},
   "outputs": [],
   "source": [
    "def get_C_red(S, delta_p, PR=1500, f=0.4, eta_p=0.75, eta_t=0.75, elec_cost=0.1936, time_running=10):\n",
    "    '''\n",
    "    S = area of membrane [m2]\n",
    "    delta_p = pressure diff [Pa]\n",
    "    PR = pure water flow rate [m3/hr]\n",
    "    f = recovery [-]\n",
    "    eta_p = pump eff. [-]\n",
    "    eta_t = turbine eff. [-]\n",
    "    elec_cost = cost of indust. elec. in Cali. [$/kwh]\n",
    "    time_running = years plant is operating [yr]\n",
    "\n",
    "    C_red = cost funtion, to be minimised [$]\n",
    "    '''\n",
    "\n",
    "    P_pump = delta_p*PR/3600*(1/eta_p) # power of pump [Nm/s]\n",
    "    P_turbine = delta_p*(PR/f-PR)/3600*eta_t # power recovered by turbine [Nm/s]\n",
    "    P_tot = (P_pump - P_turbine)/3.6e6 # [kwh/s]\n",
    "    OPEX_per_s = (P_tot*elec_cost) # [$/s]\n",
    "    OPEX = OPEX_per_s*time_running*8000*3600 # [$]\n",
    "\n",
    "    membrane_cost = S*150 # [$]\n",
    "\n",
    "    C_red = membrane_cost + OPEX\n",
    "    return C_red"
   ]
  },
  {
   "cell_type": "code",
   "execution_count": 9,
   "metadata": {},
   "outputs": [
    {
     "name": "stdout",
     "output_type": "stream",
     "text": [
      "11881555.555555556\n"
     ]
    }
   ],
   "source": [
    "test = get_C_red(23640, 6.2e6)\n",
    "print(test)"
   ]
  },
  {
   "cell_type": "code",
   "execution_count": null,
   "metadata": {},
   "outputs": [],
   "source": []
  }
 ],
 "metadata": {
  "kernelspec": {
   "display_name": "pleasework3",
   "language": "python",
   "name": "python3"
  },
  "language_info": {
   "codemirror_mode": {
    "name": "ipython",
    "version": 3
   },
   "file_extension": ".py",
   "mimetype": "text/x-python",
   "name": "python",
   "nbconvert_exporter": "python",
   "pygments_lexer": "ipython3",
   "version": "3.10.16"
  }
 },
 "nbformat": 4,
 "nbformat_minor": 2
}
